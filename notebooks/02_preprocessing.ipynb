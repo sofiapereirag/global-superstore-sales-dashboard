{
 "cells": [
  {
   "cell_type": "markdown",
   "id": "0551cbd3",
   "metadata": {},
   "source": [
    "## Interactive Sales Dashboard — Preprocessing \n",
    "\n",
    "This notebook focuses on **data cleaning and transformation** to prepare the Global Superstore dataset for dashboard development.\n",
    "\n",
    "The goal is to address issues identified during the EDA and create a **clean, structured dataset** ready for interactive visualization.\n",
    "\n",
    "**Main tasks:**\n",
    "- Handle missing values and correct data types.\n",
    "- Remove or adjust outliers when necessary.\n",
    "- Create new features (e.g., month, year, profit margin).\n",
    "- Aggregate or transform data for efficient dashboard use.\n",
    "- Export the processed dataset to a `processed/` folder.\n"
   ]
  },
  {
   "cell_type": "code",
   "execution_count": 1,
   "id": "9429d2fb",
   "metadata": {},
   "outputs": [],
   "source": [
    "import pandas as pd"
   ]
  },
  {
   "cell_type": "code",
   "execution_count": 12,
   "id": "fab7cd52",
   "metadata": {},
   "outputs": [
    {
     "name": "stdout",
     "output_type": "stream",
     "text": [
      "Dataset com 51290 linhas e 27 colunas.\n"
     ]
    }
   ],
   "source": [
    "df = pd.read_csv('../data/superstore.csv', encoding='utf-8')\n",
    "print(f\"Dataset com {df.shape[0]} linhas e {df.shape[1]} colunas.\")"
   ]
  },
  {
   "cell_type": "code",
   "execution_count": 13,
   "id": "ea57a769",
   "metadata": {},
   "outputs": [],
   "source": [
    "df['Order.Date'] = pd.to_datetime(df['Order.Date'])\n",
    "df['Ship.Date'] = pd.to_datetime(df['Ship.Date'])\n"
   ]
  },
  {
   "cell_type": "code",
   "execution_count": 14,
   "id": "cb3695bb",
   "metadata": {},
   "outputs": [
    {
     "data": {
      "text/plain": [
       "Category          0\n",
       "City              0\n",
       "Country           0\n",
       "Customer.ID       0\n",
       "Customer.Name     0\n",
       "Discount          0\n",
       "Market            0\n",
       "记录数               0\n",
       "Order.Date        0\n",
       "Order.ID          0\n",
       "Order.Priority    0\n",
       "Product.ID        0\n",
       "Product.Name      0\n",
       "Profit            0\n",
       "Quantity          0\n",
       "Region            0\n",
       "Row.ID            0\n",
       "Sales             0\n",
       "Segment           0\n",
       "Ship.Date         0\n",
       "Ship.Mode         0\n",
       "Shipping.Cost     0\n",
       "State             0\n",
       "Sub.Category      0\n",
       "Year              0\n",
       "Market2           0\n",
       "weeknum           0\n",
       "dtype: int64"
      ]
     },
     "execution_count": 14,
     "metadata": {},
     "output_type": "execute_result"
    }
   ],
   "source": [
    "df.isnull().sum()"
   ]
  },
  {
   "cell_type": "code",
   "execution_count": 15,
   "id": "99f448fe",
   "metadata": {},
   "outputs": [],
   "source": [
    "df = df[df['Ship.Date'] >= df['Order.Date']]"
   ]
  },
  {
   "cell_type": "code",
   "execution_count": 19,
   "id": "136b4baf",
   "metadata": {},
   "outputs": [],
   "source": [
    "df['Year'] = df['Order.Date'].dt.year\n",
    "df['Month'] = df['Order.Date'].dt.month\n",
    "df['Month-Year'] = df['Order.Date'].dt.to_period('M').astype(str)\n"
   ]
  },
  {
   "cell_type": "code",
   "execution_count": 16,
   "id": "c7eca911",
   "metadata": {},
   "outputs": [],
   "source": [
    "df['Profit.Margin'] = (df['Profit'] / df['Sales']).round(2)"
   ]
  },
  {
   "cell_type": "code",
   "execution_count": 20,
   "id": "4da57fba",
   "metadata": {},
   "outputs": [
    {
     "name": "stdout",
     "output_type": "stream",
     "text": [
      "Dataset processado salvo com 51290 linhas e 30 colunas.\n"
     ]
    }
   ],
   "source": [
    "df.to_csv(\"../data/processed/superstore.csv\", index=False, encoding=\"utf-8\")\n",
    "\n",
    "print(f\"Dataset processado salvo com {df.shape[0]} linhas e {df.shape[1]} colunas.\")"
   ]
  }
 ],
 "metadata": {
  "kernelspec": {
   "display_name": "Python 3",
   "language": "python",
   "name": "python3"
  },
  "language_info": {
   "codemirror_mode": {
    "name": "ipython",
    "version": 3
   },
   "file_extension": ".py",
   "mimetype": "text/x-python",
   "name": "python",
   "nbconvert_exporter": "python",
   "pygments_lexer": "ipython3",
   "version": "3.11.9"
  }
 },
 "nbformat": 4,
 "nbformat_minor": 5
}
